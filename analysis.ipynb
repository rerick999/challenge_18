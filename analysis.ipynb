{
 "cells": [
  {
   "cell_type": "markdown",
   "id": "0d3ca66e",
   "metadata": {},
   "source": [
    "## Analysis of New York Bicycle Data for months 5/2023 and 6/2023\n",
    "### Robert Erick\n",
    "### 7/27/2023"
   ]
  },
  {
   "cell_type": "markdown",
   "id": "c647bdcb",
   "metadata": {},
   "source": [
    "#### Analysis of Start Location data\n",
    "Sheets start01 to start03 show plots relating to the starting location of the data."
   ]
  },
  {
   "cell_type": "markdown",
   "id": "a6648172",
   "metadata": {},
   "source": [
    "##### Sheet start01\n",
    "Sheet start_01 shows the top 10 busiest starting location.  The dots of the locations are colored by which are the busiest, and the overlay is the per capita income by zip code.\n",
    "\n",
    "The per capita income by zipcode doesn't seem to add much information, but it is interesting.\n",
    "\n",
    "The main take aways would be as follows.  There are start locations along the shore across from New Jersey.  Those might be related to passengers arrive on fairies from New Jersey and then using bicycles to complete their commute.\n",
    "\n",
    "One high use start location is by central park.  Perhaps people have jogged or eaten lunch in central park and then used bicycles for a fast commute.\n",
    "\n",
    "Several other locations are in the downtown/flatiron district.  Probably those start locations relate to people leaving work.\n",
    "\n",
    "There is a cluster of start locations near Union Square.  Union Square has many business and also is a subway hub--so much bicycle use is likely related to starting a commute at that point."
   ]
  },
  {
   "cell_type": "markdown",
   "id": "926ca6e8",
   "metadata": {},
   "source": [
    "##### Sheet start02\n",
    "Sheet start02 shows the busiest locations as a bar chart, with numbers.  It is interesting the at the busiest location, with 26,304 uses over 2 months, is the location at W 21st & 6th Avenue.  This is the downtown location in the Flatiron district, likely related to people leaving work."
   ]
  },
  {
   "cell_type": "markdown",
   "id": "67325388",
   "metadata": {},
   "source": [
    "##### Sheet start03\n",
    "Sheet start03 shows information similar to start03, but including the hour that the commute began.  MOST of the commutes start at the locations in start02, but including the hours of 5 pm and 6 pm.  However,  the busiest commutes are starting at 1800/6 pm at West St & Chambers St (which is not on the list) and this location is slightly NW of the financial district.  On an average working day, 150 bicycles are used at West & Chambers to start a commute in the hours of 5 and 6 pm."
   ]
  },
  {
   "cell_type": "markdown",
   "id": "400a308c",
   "metadata": {},
   "source": [
    "### Analysis of End Location data\n",
    "Sheets end01 to end03 show plots relating to the starting location of the data."
   ]
  },
  {
   "cell_type": "markdown",
   "id": "b62d8bfc",
   "metadata": {},
   "source": [
    "##### Sheet end01\n",
    "The main observation here is that the largest ending points are all located inland--not a single one is located at the coastline.  That means that the most busy trends are likely to be ferries and subway starting points and subway ending points."
   ]
  },
  {
   "cell_type": "markdown",
   "id": "b92fced4",
   "metadata": {},
   "source": [
    "#### Sheet end02\n",
    "The main observation here is most of the locations of heavy commute correspond to start02.  So there will likely be less need to ferry in bikes from lesser used locations.\n"
   ]
  },
  {
   "cell_type": "markdown",
   "id": "a83486bb",
   "metadata": {},
   "source": [
    "#### Sheet end03\n",
    "The main observation is that the stations on end03 and start03 are very similar, and most of the times are evening times as well.  So...there might be LESS need to ferry bikes between slightly used start stations and heavily used end stations.\n",
    "\n",
    "There is one end station with a morning time, heavily used.  That would be East 47th and Park Avenue.  That is near Grand Central Terminal.  It is possible that bikes are used to begin a commute by train to locations off the island of Manhattan?"
   ]
  },
  {
   "cell_type": "markdown",
   "id": "515cea25",
   "metadata": {},
   "source": [
    "### Analysis of Dashboards\n",
    "There are 2 dashboards:  dashboard of start locations and dashboard of end locations.  They bring together information already discussed above."
   ]
  },
  {
   "cell_type": "markdown",
   "id": "bcd950a9",
   "metadata": {},
   "source": [
    "#### Sheet ride end distance\n",
    "There is an additional tab called ride end distance.  I inserted a computation field called \"distance\" which used the formula on https://www.vizwiz.com/2012/01/tableau-tip-calculating-distance.html. \n",
    "\n",
    "This shows that West St. and Chambers St. has a ride that used for 67k.  There are some other rides that were used over 40k."
   ]
  },
  {
   "cell_type": "code",
   "execution_count": null,
   "id": "ff99ee86",
   "metadata": {},
   "outputs": [],
   "source": []
  }
 ],
 "metadata": {
  "kernelspec": {
   "display_name": "Python 3 (ipykernel)",
   "language": "python",
   "name": "python3"
  },
  "language_info": {
   "codemirror_mode": {
    "name": "ipython",
    "version": 3
   },
   "file_extension": ".py",
   "mimetype": "text/x-python",
   "name": "python",
   "nbconvert_exporter": "python",
   "pygments_lexer": "ipython3",
   "version": "3.10.11"
  }
 },
 "nbformat": 4,
 "nbformat_minor": 5
}
